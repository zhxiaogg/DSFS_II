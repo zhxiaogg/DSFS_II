{
 "cells": [
  {
   "cell_type": "markdown",
   "metadata": {},
   "source": [
    "# Decision Trees\n",
    "\n",
    "## Materials: \n",
    "- For comparison between different ensemble model approaches, ie. bagging, boosting and stacking: https://towardsdatascience.com/ensemble-methods-bagging-boosting-and-stacking-c9214a10a205"
   ]
  },
  {
   "cell_type": "code",
   "execution_count": 2,
   "metadata": {},
   "outputs": [],
   "source": [
    "from typing import NamedTuple, Optional\n",
    "\n",
    "class Candidate(NamedTuple):\n",
    "    leve: str\n",
    "    lang: str\n",
    "    tweets: bool\n",
    "    phd: bool\n",
    "    did_well: Optional[bool] = None\n",
    "\n",
    "inputs = [Candidate('Senior', 'Java',   False, False, False),\n",
    "          Candidate('Senior', 'Java',   False, True,  False),\n",
    "          Candidate('Mid',    'Python', False, False, True),\n",
    "          Candidate('Junior', 'Python', False, False, True),\n",
    "          Candidate('Junior', 'R',      True,  False, True),\n",
    "          Candidate('Junior', 'R',      True,  True,  False),\n",
    "          Candidate('Mid',    'R',      True,  True,  True),\n",
    "          Candidate('Senior', 'Python', False, False, False),\n",
    "          Candidate('Senior', 'R',      True,  False, True),\n",
    "          Candidate('Junior', 'Python', True,  False, True),\n",
    "          Candidate('Senior', 'Python', True,  True,  True),\n",
    "          Candidate('Mid',    'Python', False, True,  True),\n",
    "          Candidate('Mid',    'Java',   True,  False, True),\n",
    "          Candidate('Junior', 'Python', False, True,  False)\n",
    "         ]"
   ]
  },
  {
   "cell_type": "code",
   "execution_count": 32,
   "metadata": {},
   "outputs": [],
   "source": [
    "# define the model data structure and how to use the model (predict method)\n",
    "\n",
    "from typing import NamedTuple, Union, Any\n",
    "\n",
    "\n",
    "class NonLeaf(NamedTuple):\n",
    "    attribute: str\n",
    "    children: dict\n",
    "    default_value: Any = None\n",
    "\n",
    "class Leaf(NamedTuple):\n",
    "    value: Any\n",
    "\n",
    "Model = Union[Leaf, NonLeaf]\n",
    "\n",
    "def predict(input:Candidate, model: Model) -> Any:\n",
    "    if isinstance(model, Leaf):\n",
    "        return model.value\n",
    "    else:\n",
    "        key = getattr(input, model.attribute)\n",
    "        if key in model.children:\n",
    "            sub_model = model.children[key]\n",
    "            return predict(input, sub_model)\n",
    "        else:\n",
    "            return model.default_value"
   ]
  },
  {
   "cell_type": "code",
   "execution_count": 51,
   "metadata": {},
   "outputs": [],
   "source": [
    "# train and construct the model\n",
    "from typing import List, Dict, Set\n",
    "from collections import Counter\n",
    "import math\n",
    "\n",
    "def partition(inputs:List[Candidate], attri:str) -> Dict[Any, List[Candidate]]:\n",
    "    partitions = {}\n",
    "    for candidate in inputs:\n",
    "        attri_value = getattr(candidate, attri)\n",
    "        if attri_value in partitions:\n",
    "            partitions[attri_value].append(candidate)\n",
    "        else:\n",
    "            partitions[attri_value] = [candidate]\n",
    "    return partitions\n",
    "\n",
    "def entropy_of_data(inputs:List[Candidate], label:str) -> float:\n",
    "    count = len(inputs)\n",
    "    counter = Counter([getattr(candidate, label) for candidate in inputs])\n",
    "    return sum([c/count*math.log(c/count) for c in [item[1] for item in counter.items()]])\n",
    "\n",
    "def entropy_of_partitions(partitions:Dict[Any, List[Candidate]], label:str) -> float:\n",
    "    count = sum([len(l) for _,l in partitions.items()])\n",
    "    return sum([len(l)/count * entropy_of_data(l, label) for _, l in partitions.items()])\n",
    "\n",
    "def inner_train(inputs:List[Candidate], label: str, ignored_key: Set[str]) -> Model:\n",
    "    label_counts = Counter([getattr(candidate, label) for candidate in inputs])\n",
    "    most_common = label_counts.most_common()[0][0]\n",
    "    if len(label_counts) == 1:\n",
    "        return Leaf(most_common)\n",
    "    \n",
    "    attributes = [attri for attri in Candidate._fields if (attri not in ignored_key)]\n",
    "    lowest_entropy_sofar = 2 # entroy will never > 1\n",
    "    winner = None\n",
    "    winner_partitions = None\n",
    "    for attri in attributes:\n",
    "        partitions = partition(inputs, attri)\n",
    "        entropy = entropy_of_partitions(partitions, label)\n",
    "        if entropy < lowest_entropy_sofar:\n",
    "            lowest_entropy_sofar = entropy\n",
    "            winner = attri\n",
    "            winner_partitions = partitions\n",
    "\n",
    "    if winner:\n",
    "        # we got a further partition\n",
    "        updated_ignored_keys = ignored_key + [winner]\n",
    "        children = {k: inner_train(v, label, updated_ignored_keys) for k,v in winner_partitions.items()}\n",
    "        return NonLeaf(winner, children, most_common)\n",
    "    else:\n",
    "        # no further partiton, return most common labels\n",
    "        return Leaf(most_common)\n",
    "\n",
    "def train(inputs:List[Candidate], label:str) -> Model:\n",
    "    return inner_train(inputs, label, ['did_well'])\n",
    "    \n",
    "    "
   ]
  },
  {
   "cell_type": "code",
   "execution_count": 52,
   "metadata": {},
   "outputs": [
    {
     "name": "stdout",
     "output_type": "stream",
     "text": [
      "NonLeaf(attribute='phd', children={False: NonLeaf(attribute='lang', children={'Java': NonLeaf(attribute='leve', children={'Senior': Leaf(value=False), 'Mid': Leaf(value=True)}, default_value=False), 'Python': NonLeaf(attribute='tweets', children={False: NonLeaf(attribute='leve', children={'Mid': Leaf(value=True), 'Junior': Leaf(value=True), 'Senior': Leaf(value=False)}, default_value=True), True: Leaf(value=True)}, default_value=True), 'R': Leaf(value=True)}, default_value=True), True: NonLeaf(attribute='tweets', children={False: NonLeaf(attribute='lang', children={'Java': Leaf(value=False), 'Python': NonLeaf(attribute='leve', children={'Mid': Leaf(value=True), 'Junior': Leaf(value=False)}, default_value=True)}, default_value=False), True: NonLeaf(attribute='lang', children={'R': NonLeaf(attribute='leve', children={'Junior': Leaf(value=False), 'Mid': Leaf(value=True)}, default_value=False), 'Python': Leaf(value=True)}, default_value=True)}, default_value=False)}, default_value=True)\n"
     ]
    }
   ],
   "source": [
    "model = train(inputs, 'did_well')\n",
    "print(model)"
   ]
  },
  {
   "cell_type": "code",
   "execution_count": 53,
   "metadata": {},
   "outputs": [],
   "source": [
    "assert not predict(Candidate('Junior', 'Java', True, False), model)\n",
    "assert predict(Candidate('Intern', 'Java', True, True), model)"
   ]
  },
  {
   "cell_type": "code",
   "execution_count": null,
   "metadata": {},
   "outputs": [],
   "source": []
  }
 ],
 "metadata": {
  "kernelspec": {
   "display_name": "Python 3",
   "language": "python",
   "name": "python3"
  },
  "language_info": {
   "codemirror_mode": {
    "name": "ipython",
    "version": 3
   },
   "file_extension": ".py",
   "mimetype": "text/x-python",
   "name": "python",
   "nbconvert_exporter": "python",
   "pygments_lexer": "ipython3",
   "version": "3.8.5"
  }
 },
 "nbformat": 4,
 "nbformat_minor": 4
}
