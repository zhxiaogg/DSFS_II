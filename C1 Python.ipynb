{
 "cells": [
  {
   "cell_type": "markdown",
   "metadata": {},
   "source": [
    "## ToC\n",
    "\n",
    "References: \n",
    "- Python 3 documents, eg. standard library reference: https://docs.python.org/3/\n",
    "\n",
    "TODO:\n",
    "- how to show python standard library?\n",
    "- how to find type/object fields/methods?"
   ]
  },
  {
   "cell_type": "markdown",
   "metadata": {},
   "source": [
    "## Loop Controls:"
   ]
  },
  {
   "cell_type": "code",
   "execution_count": null,
   "metadata": {},
   "outputs": [],
   "source": [
    "sum = 0\n",
    "for i in [1, 2, 3, 4, 5]:\n",
    "    for j in [1, 2, 3, 4, 5]:\n",
    "        sum += i * j\n",
    "# print(sum)"
   ]
  },
  {
   "cell_type": "markdown",
   "metadata": {},
   "source": [
    "## Regular Expression"
   ]
  },
  {
   "cell_type": "code",
   "execution_count": null,
   "metadata": {},
   "outputs": [],
   "source": [
    "import re\n",
    "my_regex = re.compile(\"[0-9]+\", re.I)\n",
    "r = my_regex.match(\"12345\").group(0)\n",
    "# print(r)"
   ]
  },
  {
   "cell_type": "markdown",
   "metadata": {},
   "source": [
    "## List Comprehension:"
   ]
  },
  {
   "cell_type": "code",
   "execution_count": null,
   "metadata": {},
   "outputs": [],
   "source": [
    "even_numbers = [x for x in range(0, 10) if x % 2 != 0]\n",
    "odd_numbers = [x for x in [0, 1, 2, 3, 4, 5] if x % 2 == 0]\n",
    "\n",
    "pairs = [(x, y)\n",
    "         for x in range(10) \n",
    "         for y in range(10)]\n",
    "\n",
    "# print(pairs)"
   ]
  },
  {
   "cell_type": "markdown",
   "metadata": {},
   "source": [
    "## Dictionary"
   ]
  },
  {
   "cell_type": "code",
   "execution_count": 2,
   "metadata": {},
   "outputs": [
    {
     "name": "stdout",
     "output_type": "stream",
     "text": [
      "{'Asia': 0, 'URO': 1, 'AMERIC': 2}\n"
     ]
    }
   ],
   "source": [
    "dict1 = {}\n",
    "for x in [\"a\", \"b\", \"c\", \"d\", \"a\", \"d\"]:\n",
    "    if x in dict1:\n",
    "        dict1[x] += 1\n",
    "    else:\n",
    "        dict1[x] = 1\n",
    "# print(dict)\n",
    "\n",
    "\n",
    "dict2 = dict([(\"Asia\", 0), (\"URO\", 1), (\"AMERIC\", 2)])\n",
    "# print(dict2)"
   ]
  },
  {
   "cell_type": "markdown",
   "metadata": {},
   "source": [
    "## Import Random"
   ]
  },
  {
   "cell_type": "code",
   "execution_count": 114,
   "metadata": {},
   "outputs": [],
   "source": [
    "import random\n",
    "\n",
    "values = [random.random(), random.random(), random.random()]\n",
    "values.sort(reverse=True)\n",
    "# print(values)"
   ]
  },
  {
   "cell_type": "markdown",
   "metadata": {},
   "source": [
    "## Generators"
   ]
  },
  {
   "cell_type": "code",
   "execution_count": 5,
   "metadata": {},
   "outputs": [],
   "source": [
    "from typing import Iterator, Generator\n",
    "\n",
    "# using [int] instead of Iterator[int] for type annotation\n",
    "# def generate_range(n:int) -> Iterator[int]:\n",
    "def generate_range(n:int) -> [int]:\n",
    "    i = 0\n",
    "    while i < n:\n",
    "        yield i\n",
    "        i += 1\n",
    "\n",
    "# this will create another generator:\n",
    "odds_generator = (i for i in generate_range(100) if i % 2 == 0)\n",
    "# while this will create a list:\n",
    "odds_list = [x for x in generate_range(100) if x % 2 == 0]\n",
    "# and this still creates a generator:\n",
    "still_odds_generator = (x for x in (0, 1, 2, 3))\n",
    "\n",
    "\n",
    "# for index, value in enumerate(generate_range(10)):\n",
    "#     print(f\"index: {index}, value: {value}\")\n",
    "\n",
    "# print(next(generate_range(10)))"
   ]
  },
  {
   "cell_type": "markdown",
   "metadata": {},
   "source": [
    "## Lambda"
   ]
  },
  {
   "cell_type": "code",
   "execution_count": 6,
   "metadata": {},
   "outputs": [],
   "source": [
    "values = generate_range(10)\n",
    "odds = filter(lambda x: x % 2 == 0, values)\n",
    "# print(list(odds))"
   ]
  }
 ],
 "metadata": {
  "kernelspec": {
   "display_name": "Python 3",
   "language": "python",
   "name": "python3"
  },
  "language_info": {
   "codemirror_mode": {
    "name": "ipython",
    "version": 3
   },
   "file_extension": ".py",
   "mimetype": "text/x-python",
   "name": "python",
   "nbconvert_exporter": "python",
   "pygments_lexer": "ipython3",
   "version": "3.8.5"
  }
 },
 "nbformat": 4,
 "nbformat_minor": 4
}
