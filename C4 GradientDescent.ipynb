{
 "cells": [
  {
   "cell_type": "markdown",
   "metadata": {},
   "source": [
    "# Gradient descent"
   ]
  },
  {
   "cell_type": "code",
   "execution_count": 54,
   "metadata": {},
   "outputs": [
    {
     "name": "stdout",
     "output_type": "stream",
     "text": [
      "20.003182375175413 4.788918757892892\n"
     ]
    }
   ],
   "source": [
    "import numpy as np\n",
    "import random\n",
    "\n",
    "# inputs_x = np.array([x for x in range(-50, 50)])\n",
    "inputs_x = np.array([x for x in range(100)])\n",
    "inputs_y = inputs_x * 20 + 5\n",
    "\n",
    "def linear_gradient(inputs_x, inputs_y, a: float, b: float) -> (float, float):\n",
    "    predicted = inputs_x * a + b\n",
    "    errors = predicted - inputs_y\n",
    "    a = np.mean(2 * errors * inputs_x)\n",
    "    b = np.mean(2 * errors)\n",
    "    return (a, b)\n",
    "\n",
    "learning_rate = 0.0003\n",
    "epoches = 20000\n",
    "(a, b) = (random.random(), random.random())\n",
    "\n",
    "for epoch in range(epoches):\n",
    "    (grad_a, grad_b) = linear_gradient(inputs_x, inputs_y, a, b)\n",
    "    a = a - learning_rate * grad_a\n",
    "    b = b - learning_rate * grad_b\n",
    "\n",
    "print(a, b)"
   ]
  },
  {
   "cell_type": "markdown",
   "metadata": {},
   "source": [
    "## Mini Batch and Stochastic Gradient Descent\n",
    "\n",
    "- Mini Batch: get gradient by sampled inputs from original datasets\n",
    "- Stochastic: get gradient by a randomly chosen input data\n",
    "\n",
    "TODO: Why?"
   ]
  }
 ],
 "metadata": {
  "kernelspec": {
   "display_name": "Python 3",
   "language": "python",
   "name": "python3"
  },
  "language_info": {
   "codemirror_mode": {
    "name": "ipython",
    "version": 3
   },
   "file_extension": ".py",
   "mimetype": "text/x-python",
   "name": "python",
   "nbconvert_exporter": "python",
   "pygments_lexer": "ipython3",
   "version": "3.8.5"
  }
 },
 "nbformat": 4,
 "nbformat_minor": 4
}
